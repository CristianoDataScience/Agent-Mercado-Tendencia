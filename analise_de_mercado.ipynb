{
 "cells": [
  {
   "cell_type": "code",
   "execution_count": 1,
   "id": "93ffdbb6",
   "metadata": {},
   "outputs": [],
   "source": [
    "from dotenv import load_dotenv, find_dotenv\n",
    "load_dotenv(find_dotenv())\n",
    "from crewai import Agent, Task, Crew"
   ]
  },
  {
   "cell_type": "markdown",
   "id": "37bac837",
   "metadata": {},
   "source": [
    "### Agentes\n",
    "- Pesquisador de Mercado\n",
    "- Analista de Tendências\n",
    "- Redator do Relatório\n"
   ]
  },
  {
   "cell_type": "code",
   "execution_count": 11,
   "id": "c7fe329d",
   "metadata": {},
   "outputs": [],
   "source": [
    "pesquisador = Agent(\n",
    "    role=\"Pesquisador de Mercado\",\n",
    "    goal=\"Coletar e organizar informações relevantes sobre {sector}\",\n",
    "    backstory=\"\"\"\n",
    "    Você é um pesquisador experiente que analisa tendências de mercado e coleta\n",
    "    dados relevantes sobre {sector}. Seu trabalho é garantir que todas as\n",
    "    informações estejam atualizadas e bem documentadas.\n",
    "    \"\"\",\n",
    "    allow_delegation=False,\n",
    "    verbose=True,\n",
    ")"
   ]
  },
  {
   "cell_type": "code",
   "execution_count": 12,
   "id": "c7e938fa",
   "metadata": {},
   "outputs": [],
   "source": [
    "analista = Agent(\n",
    "    role=\"Analista de Tendências\",\n",
    "    goal=\"Analisar os dados do setor {sector}\",\n",
    "    backstory=\"\"\"\n",
    "    Você é um analista de mercado que examina os dados coletados para identificar\n",
    "    tendências emergentes, oportunidades e ameaças no setor {sector}.\n",
    "\"\"\",\n",
    "    allow_delegation=False,\n",
    "    verbose=True\n",
    "\n",
    ")"
   ]
  },
  {
   "cell_type": "code",
   "execution_count": 13,
   "id": "3aff0cbc",
   "metadata": {},
   "outputs": [],
   "source": [
    "redator = Agent(\n",
    "    role=\"Redator de Relatórios\",\n",
    "    goal=\"Elaborar um relatório consolidado sobre a análise de mercado do setor {sector}.\",\n",
    "    backstory=\"\"\"\n",
    "    Você é um redator profissional que transforma análises de mercado em um relatório\n",
    "    estruturado e compreensível para tomadores de decisão.\n",
    "\"\"\",\n",
    "    allow_delegation=False,\n",
    "    verbose=True\n",
    ")"
   ]
  },
  {
   "cell_type": "code",
   "execution_count": 15,
   "id": "ea67057c",
   "metadata": {},
   "outputs": [],
   "source": [
    "coleta_dados = Task(\n",
    "    description=(\n",
    "        \"1. Pesquisar e coletar informações atualizadas sobre {sector};\"\n",
    "        \"2. Identificar os principais players, tendência e estatísticas do setor;\"\n",
    "        \"3. Organizar os dados de forma clara para análise.\"\n",
    "    ),\n",
    "    expected_output=\"Um documento estruturado contendo dados de mercado sobre {sector}.\",\n",
    "    agent=pesquisador\n",
    ")"
   ]
  },
  {
   "cell_type": "code",
   "execution_count": 18,
   "id": "85a0dd01",
   "metadata": {},
   "outputs": [],
   "source": [
    "analise_tendencias = Task(\n",
    "    description=(\n",
    "    \"1. Examinar os dados coletados pelo Pesquisador de Mercado.\"\n",
    "    \"2. Identificar padrões, tendências emergentes e oportunidades no setor {sector}.\"\n",
    "    \"3. Elaborar uma análise detalhada destacando os principais pontos.\"\n",
    "\n",
    "),\n",
    "    expected_output = \"Um relatório com insights e tendências baseados nos dados do setor {sector}.\",\n",
    "    agent= analista\n",
    ")"
   ]
  },
  {
   "cell_type": "code",
   "execution_count": 19,
   "id": "a9b840b7",
   "metadata": {},
   "outputs": [],
   "source": [
    "redacao_relatorio = Task(\n",
    "    description=(\n",
    "        \"1. Usar a análise de tendência para criar um relatório detalhado sobre {sector}.\"\n",
    "        \"2. Garantir que o relatório seja bem estruturado e compreensível.\"\n",
    "        \"3. Apresentar um resumo executivo e recomendações finais.\"\n",
    "    ),\n",
    "    expected_output=\"Um relátório de análise de mercador em formato Markdown, pronto para leitura e apresentação.\",\n",
    "    agent=redator\n",
    "\n",
    ")"
   ]
  },
  {
   "cell_type": "code",
   "execution_count": null,
   "id": "99781465",
   "metadata": {},
   "outputs": [],
   "source": []
  }
 ],
 "metadata": {
  "kernelspec": {
   "display_name": ".venv",
   "language": "python",
   "name": "python3"
  },
  "language_info": {
   "codemirror_mode": {
    "name": "ipython",
    "version": 3
   },
   "file_extension": ".py",
   "mimetype": "text/x-python",
   "name": "python",
   "nbconvert_exporter": "python",
   "pygments_lexer": "ipython3",
   "version": "3.11.5"
  }
 },
 "nbformat": 4,
 "nbformat_minor": 5
}
